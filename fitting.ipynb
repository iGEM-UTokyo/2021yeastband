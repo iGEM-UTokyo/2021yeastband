{
 "cells": [
  {
   "cell_type": "code",
   "execution_count": 148,
   "metadata": {},
   "outputs": [
    {
     "name": "stdout",
     "output_type": "stream",
     "text": [
      "[-2.87484692  0.25829596  0.04476824 -4.52013929  1.51419308  5.59471902\n",
      " 20.77236153]\n"
     ]
    },
    {
     "name": "stderr",
     "output_type": "stream",
     "text": [
      "/opt/anaconda3/lib/python3.7/site-packages/scipy/integrate/odepack.py:248: ODEintWarning: Excess work done on this call (perhaps wrong Dfun type). Run with full_output = 1 to get quantitative information.\n",
      "  warnings.warn(warning_msg, ODEintWarning)\n"
     ]
    },
    {
     "data": {
      "image/png": "[encoded data removed]",
      "text/plain": [
       "<Figure size 432x288 with 1 Axes>"
      ]
     },
     "metadata": {
      "needs_background": "light"
     },
     "output_type": "display_data"
    }
   ],
   "source": [
    "%matplotlib inline\n",
    "\n",
    "import matplotlib \n",
    "import pandas as pd\n",
    "import numpy as np\n",
    "from scipy.optimize import curve_fit\n",
    "from scipy.integrate import odeint\n",
    "import matplotlib .pyplot as plt\n",
    "\n",
    "up=120\n",
    "v_ini=[100,0,0,100,0]\n",
    "t=np.arange(0,100,1)\n",
    "O=0.0001  #酸素濃度（一定）\n",
    "\n",
    "def func(t,k1, k2, k3, k4, k5, k6, K):\n",
    "    def Hap(v,t, k1, k2, k3, k4, k5, k6):\n",
    "        v0 = -k1*v[0]*O + k2*v[1]\n",
    "        v1 = k1*v[0]*O - k2*v[1] - k3*v[2]*v[1] + k4*v[3] - k5*v[3]*v[1] + k6*v[4]\n",
    "        v2 = -k3*v[2]*v[1] + k4*v[3]\n",
    "        v3 = k3*v[2]*v[1] - k4*v[3] - k5*v[3]*v[1] + k6*v[4]\n",
    "        v4 = k5*v[3]*v[1] - k6*v[4]\n",
    "        return [v0,v1,v2,v3,v4]\n",
    "    v=odeint(Hap,v_ini,t,args=(k1,k2,k3,k4,k5,k6) )\n",
    "    transcript = [x/(x+K) for x in v[:,4]]\n",
    "    return transcript\n",
    "\n",
    "df = pd.read_csv('Fig2A_1step.csv',header=None)\n",
    "x = np.array(df[0][:100])\n",
    "y = np.array(df[1][:100])\n",
    "\n",
    "\n",
    "popt, pcov = curve_fit(func, x, y,maxfev=10000)\n",
    "print(popt)\n",
    "plt.plot(t,func(t,popt[0],popt[1],popt[2],popt[3],popt[4],popt[5],popt[6]))\n",
    "plt.plot(t,y)\n",
    "plt.show()"
   ]
  },
  {
   "cell_type": "code",
   "execution_count": 13,
   "metadata": {},
   "outputs": [
    {
     "name": "stdout",
     "output_type": "stream",
     "text": [
      "[0.35233419 0.0457715  0.33469601 0.17511884 0.3497788  0.00128374\n",
      " 0.33406676 0.69469713 0.46082118]\n"
     ]
    },
    {
     "data": {
      "image/png": "[encoded data removed]",
      "text/plain": [
       "<Figure size 432x288 with 1 Axes>"
      ]
     },
     "metadata": {
      "needs_background": "light"
     },
     "output_type": "display_data"
    }
   ],
   "source": [
    "%matplotlib inline\n",
    "\n",
    "import matplotlib \n",
    "import pandas as pd\n",
    "import numpy as np\n",
    "from scipy.optimize import curve_fit\n",
    "from scipy.integrate import odeint\n",
    "import matplotlib .pyplot as plt\n",
    "\n",
    "\n",
    "param_ini = [0.9955032249707431, 0.03216701347549755, 0.16746667657269187, 0.2768951557587751, 0.1774701733114541, 0.0044596505061225145, 0.6294790858484255, 0.4041695418619293, 0.16870296177776967]\n",
    "param_bound = ([0,0,0,0,0,0,0,0,0],[1,1,1,1,1,1,1,1,1]) \n",
    "t=np.arange(0,120,0.01)\n",
    "O=200  #酸素濃度（一定）\n",
    "v1i=0\n",
    "v3i=0\n",
    "v4i=0\n",
    "def func(t,k1, k2, k3, k4, k5, k6, K, v0i,v2i):\n",
    "    def Hap(v,t, k1, k2, k3, k4, k5, k6):\n",
    "        v0 = -k1*v[0]*O + k2*v[1]\n",
    "        v1 = k1*v[0]*O - k2*v[1] - k3*v[2]*v[1] + k4*v[3] - k5*v[3]*v[1] + k6*v[4]\n",
    "        v2 = -k3*v[2]*v[1] + k4*v[3]\n",
    "        v3 = k3*v[2]*v[1] - k4*v[3] - k5*v[3]*v[1] + k6*v[4]\n",
    "        v4 = k5*v[3]*v[1] - k6*v[4]\n",
    "        return [v0,v1,v2,v3,v4]\n",
    "    v_ini=[v0i,v1i,v2i,v3i,v4i]\n",
    "    v=odeint(Hap,v_ini,t,args=(k1,k2,k3,k4,k5,k6) )\n",
    "    transcript = [x/(x+K) for x in v[:,4]]\n",
    "    return transcript\n",
    "\n",
    "df = pd.read_csv('Fig3A_1min_step.csv',header=None)\n",
    "x = np.array(df[0])-1\n",
    "y = np.array(df[1])\n",
    "\n",
    "\n",
    "popt, pcov = curve_fit(func, x, y,maxfev=10000,p0=param_ini, bounds=param_bound)\n",
    "print(popt)\n",
    "plt.plot(t,func(t,popt[0],popt[1],popt[2],popt[3],popt[4],popt[5],popt[6],popt[7],popt[8]),label='pred')\n",
    "plt.plot(x,y,label='obs')\n",
    "plt.legend()\n",
    "plt.ylim(0,0.70)\n",
    "plt.show()"
   ]
  },
  {
   "cell_type": "code",
   "execution_count": 2,
   "metadata": {},
   "outputs": [
    {
     "ename": "NameError",
     "evalue": "name 'ans' is not defined",
     "output_type": "error",
     "traceback": [
      "\u001b[0;31m---------------------------------------------------------------------------\u001b[0m",
      "\u001b[0;31mNameError\u001b[0m                                 Traceback (most recent call last)",
      "\u001b[0;32m<ipython-input-2-159df6cb5c64>\u001b[0m in \u001b[0;36m<module>\u001b[0;34m\u001b[0m\n\u001b[1;32m     26\u001b[0m         \u001b[0mans\u001b[0m\u001b[0;34m.\u001b[0m\u001b[0mappend\u001b[0m\u001b[0;34m(\u001b[0m\u001b[0mv\u001b[0m\u001b[0;34m[\u001b[0m\u001b[0;34m-\u001b[0m\u001b[0;36m1\u001b[0m\u001b[0;34m,\u001b[0m\u001b[0;36m4\u001b[0m\u001b[0;34m]\u001b[0m\u001b[0;34m/\u001b[0m\u001b[0;34m(\u001b[0m\u001b[0mv\u001b[0m\u001b[0;34m[\u001b[0m\u001b[0;34m-\u001b[0m\u001b[0;36m1\u001b[0m\u001b[0;34m,\u001b[0m\u001b[0;36m4\u001b[0m\u001b[0;34m]\u001b[0m\u001b[0;34m+\u001b[0m\u001b[0mK\u001b[0m\u001b[0;34m)\u001b[0m\u001b[0;34m)\u001b[0m\u001b[0;34m\u001b[0m\u001b[0;34m\u001b[0m\u001b[0m\n\u001b[1;32m     27\u001b[0m     \u001b[0;32mreturn\u001b[0m \u001b[0mans\u001b[0m\u001b[0;34m\u001b[0m\u001b[0;34m\u001b[0m\u001b[0m\n\u001b[0;32m---> 28\u001b[0;31m \u001b[0mplt\u001b[0m\u001b[0;34m.\u001b[0m\u001b[0mplot\u001b[0m\u001b[0;34m(\u001b[0m\u001b[0mOs\u001b[0m\u001b[0;34m,\u001b[0m\u001b[0mans\u001b[0m\u001b[0;34m)\u001b[0m  \u001b[0;31m#横軸は常用対数\u001b[0m\u001b[0;34m\u001b[0m\u001b[0;34m\u001b[0m\u001b[0m\n\u001b[0m\u001b[1;32m     29\u001b[0m \u001b[0mplt\u001b[0m\u001b[0;34m.\u001b[0m\u001b[0mxlabel\u001b[0m\u001b[0;34m(\u001b[0m\u001b[0;34m\"O2 (log)\"\u001b[0m\u001b[0;34m)\u001b[0m\u001b[0;34m\u001b[0m\u001b[0;34m\u001b[0m\u001b[0m\n\u001b[1;32m     30\u001b[0m \u001b[0mplt\u001b[0m\u001b[0;34m.\u001b[0m\u001b[0mshow\u001b[0m\u001b[0;34m(\u001b[0m\u001b[0;34m)\u001b[0m\u001b[0;34m\u001b[0m\u001b[0;34m\u001b[0m\u001b[0m\n",
      "\u001b[0;31mNameError\u001b[0m: name 'ans' is not defined"
     ]
    }
   ],
   "source": [
    "%matplotlib inline\n",
    "\n",
    "import matplotlib \n",
    "import pandas as pd\n",
    "import numpy as np\n",
    "from scipy.optimize import curve_fit\n",
    "from scipy.integrate import odeint\n",
    "import matplotlib .pyplot as plt\n",
    "Os=[-7,-6,-5,-4,-3,-2,-1,0,1,2,3,4,5,6,7]\n",
    "\n",
    "def func(t,k1, k2, k3, k4, k5, k6, K):\n",
    "    def Hap(v,t, k1, k2, k3, k4, k5, k6):\n",
    "        v0 = -k1*v[0]*O + k2*v[1]\n",
    "        v1 = k1*v[0]*O - k2*v[1] - k3*v[2]*v[1] + k4*v[3] - k5*v[3]*v[1] + k6*v[4]\n",
    "        v2 = -k3*v[2]*v[1] + k4*v[3]\n",
    "        v3 = k3*v[2]*v[1] - k4*v[3] - k5*v[3]*v[1] + k6*v[4]\n",
    "        v4 = k5*v[3]*v[1] - k6*v[4]\n",
    "        return [v0,v1,v2,v3,v4]\n",
    "    ans=[]\n",
    "    transcript = [x/(x+K) for x in v[:,4]]\n",
    "    for x in Os:\n",
    "        O=10**x\n",
    "        v=odeint(Hap,v_ini,t,args=(O,k1,k2,k3,k4,k5,k6))\n",
    "        ans.append(v[-1,4]/(v[-1,4]+K))\n",
    "    return ans\n",
    "\n",
    "\n"
   ]
  },
  {
   "cell_type": "code",
   "execution_count": null,
   "metadata": {},
   "outputs": [],
   "source": []
  }
 ],
 "metadata": {
  "kernelspec": {
   "display_name": "Python 3",
   "language": "python",
   "name": "python3"
  },
  "language_info": {
   "codemirror_mode": {
    "name": "ipython",
    "version": 3
   },
   "file_extension": ".py",
   "mimetype": "text/x-python",
   "name": "python",
   "nbconvert_exporter": "python",
   "pygments_lexer": "ipython3",
   "version": "3.7.6"
  }
 },
 "nbformat": 4,
 "nbformat_minor": 4
}
