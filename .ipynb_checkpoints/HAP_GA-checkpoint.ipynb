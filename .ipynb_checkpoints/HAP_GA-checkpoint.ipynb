{
 "cells": [
  {
   "cell_type": "code",
   "execution_count": 1,
   "metadata": {},
   "outputs": [],
   "source": [
    "import numpy as np\n",
    "import pandas as pd\n",
    "from scipy.integrate import odeint\n",
    "import matplotlib.pyplot as plt\n",
    "import random\n",
    "import copy"
   ]
  },
  {
   "cell_type": "code",
   "execution_count": 3,
   "metadata": {},
   "outputs": [],
   "source": [
    "def Hap(v, t, O, k1, k2, k3, k4, k5, k6):\n",
    "  v0 = -k1*v[0]*O + k2*v[1]\n",
    "  v1 = k1*v[0]*O - k2*v[1] - k3*v[2]*v[1] + k4*v[3] - k5*v[3]*v[1] + k6*v[4]\n",
    "  v2 = -k3*v[2]*v[1] + k4*v[3]\n",
    "  v3 = k3*v[2]*v[1] - k4*v[3] - k5*v[3]*v[1] + k6*v[4]\n",
    "  v4 = k5*v[3]*v[1] - k6*v[4]\n",
    "  return [v0,v1,v2,v3,v4]"
   ]
  },
  {
   "cell_type": "code",
   "execution_count": 4,
   "metadata": {},
   "outputs": [],
   "source": [
    "def fitness(O,fp,data):\n",
    "    v0=[fp[6],0.0,fp[7],0.0,0.0] \n",
    "    t=np.arange(0,120,0.01)\n",
    "    v=odeint(Hap,v0,t,args=(O,fp[0],fp[1],fp[2],fp[3],fp[4],fp[5]))\n",
    "    transcript = np.array([x/(x+fp[8]) for x in v[:,4]])\n",
    "    RSS=np.sum([(transcript[np.where(t==data['t'][id])[0]] - data['rtl'][id])**2 for id in range(len(data))])\n",
    "    return(1/RSS)\n",
    "    \n",
    "def fitness_for_population(O,population,data):\n",
    "    return [fitness(O,population[i],data) for i in range(len(population))]"
   ]
  },
  {
   "cell_type": "code",
   "execution_count": 5,
   "metadata": {},
   "outputs": [],
   "source": [
    "#define selection\n",
    "def select(O, population, fitness_list):\n",
    "    selected_population = [population[fitness_list.index(max(fitness_list))]] #elite selection\n",
    "    fitness_sum = sum(fitness_list)\n",
    "    for i in range(len(population)-1):\n",
    "        roulette = fitness_sum*random.random()\n",
    "        id = 0\n",
    "        while roulette > 0:\n",
    "            roulette = roulette - fitness_list[id]\n",
    "            id = id + 1\n",
    "        selected_population.append(population[id-1])\n",
    "    return selected_population\n",
    "\n",
    "#define cross\n",
    "def cross(first, second):\n",
    "    p=int(len(first)*random.random())\n",
    "    new_one = first[:p+1]+second[p+1:]\n",
    "    new_two = second[:p+1]+first[p+1:]\n",
    "    return [new_one,new_two]\n",
    "\n",
    "#define mutation\n",
    "def mutate(old):\n",
    "    new = copy.copy(old)\n",
    "    new[random.randint(0,len(new)-1)]=random.random()\n",
    "    return new"
   ]
  },
  {
   "cell_type": "code",
   "execution_count": 6,
   "metadata": {},
   "outputs": [
    {
     "name": "stdout",
     "output_type": "stream",
     "text": [
      "         t       rtl\n",
      "0      0.0  0.077469\n",
      "1      1.0  0.076396\n",
      "2      2.0  0.076396\n",
      "3      3.0  0.079615\n",
      "4      4.0  0.087126\n",
      "..     ...       ...\n",
      "115  115.0  0.547425\n",
      "116  116.0  0.548498\n",
      "117  117.0  0.549571\n",
      "118  118.0  0.549571\n",
      "119  119.0  0.549571\n",
      "\n",
      "[120 rows x 2 columns]\n"
     ]
    }
   ],
   "source": [
    "#read data for fitting\n",
    "data = pd.read_csv('Fig3A_1min_step.csv',names=('t','rtl'))\n",
    "data['t'] = data['t'].round(2)\n",
    "print(data)"
   ]
  },
  {
   "cell_type": "code",
   "execution_count": 7,
   "metadata": {},
   "outputs": [
    {
     "name": "stdout",
     "output_type": "stream",
     "text": [
      "0\n",
      "1\n",
      "2\n",
      "3\n",
      "4\n",
      "5\n",
      "6\n",
      "7\n",
      "8\n",
      "9\n",
      "10\n",
      "11\n",
      "12\n",
      "13\n",
      "14\n",
      "15\n",
      "16\n",
      "17\n",
      "18\n",
      "19\n",
      "20\n",
      "21\n",
      "22\n",
      "23\n",
      "24\n",
      "25\n",
      "26\n",
      "27\n",
      "28\n",
      "29\n",
      "30\n",
      "31\n",
      "32\n",
      "33\n",
      "34\n",
      "35\n",
      "36\n",
      "37\n",
      "38\n",
      "39\n",
      "40\n",
      "41\n",
      "42\n",
      "43\n",
      "44\n",
      "45\n",
      "46\n",
      "47\n",
      "48\n",
      "49\n",
      "50\n",
      "51\n",
      "52\n",
      "53\n",
      "54\n",
      "55\n",
      "56\n",
      "57\n",
      "58\n",
      "59\n",
      "60\n",
      "61\n",
      "62\n",
      "63\n",
      "64\n",
      "65\n",
      "66\n",
      "67\n",
      "68\n",
      "69\n",
      "70\n",
      "71\n",
      "72\n",
      "73\n",
      "74\n",
      "75\n",
      "76\n",
      "77\n",
      "78\n",
      "79\n",
      "80\n",
      "81\n",
      "82\n",
      "83\n",
      "84\n",
      "85\n",
      "86\n",
      "87\n",
      "88\n",
      "89\n",
      "90\n",
      "91\n",
      "92\n",
      "93\n",
      "94\n",
      "95\n",
      "96\n",
      "97\n",
      "98\n",
      "99\n",
      "[0.9955032249707431, 0.03216701347549755, 0.16746667657269187, 0.2768951557587751, 0.1774701733114541, 0.0044596505061225145, 0.6294790858484255, 0.4041695418619293, 0.16870296177776967]\n"
     ]
    }
   ],
   "source": [
    "#define initial population\n",
    "N=1000\n",
    "population = [[random.random() for i in range(9)] for j in range(N)]\n",
    "\n",
    "generation = 100\n",
    "O=200\n",
    "\n",
    "for gen in range(generation):\n",
    "    print(gen)\n",
    "    fitness_list = fitness_for_population(O,population,data)\n",
    "    selected_population = select(O,population,fitness_list)\n",
    "    cnt = 1\n",
    "    next_population = [selected_population[0]]\n",
    "    while cnt < N*0.95/2:\n",
    "        next_population = next_population + cross(population[cnt], population[cnt+1])\n",
    "        cnt = cnt + 2\n",
    "    while cnt < N:\n",
    "        next_population.append(mutate(selected_population[cnt]))\n",
    "        cnt = cnt + 1\n",
    "    next_population,population = population,next_population\n",
    "    \n",
    "print(select(O,population,fitness_for_population(O,population,data))[0])"
   ]
  },
  {
   "cell_type": "code",
   "execution_count": 9,
   "metadata": {},
   "outputs": [
    {
     "data": {
      "image/png": "[encoded data removed]",
      "text/plain": [
       "<Figure size 432x288 with 1 Axes>"
      ]
     },
     "metadata": {
      "needs_background": "light"
     },
     "output_type": "display_data"
    }
   ],
   "source": [
    "fp = select(O,population,fitness_for_population(O,population,data))[0]\n",
    "v0=[fp[6],0.0,fp[7],0.0,0.0] \n",
    "t=np.arange(0,120,0.01)\n",
    "v=odeint(Hap,v0,t,args=(O,fp[0],fp[1],fp[2],fp[3],fp[4],fp[5]))\n",
    "transcript = np.array([x/(x+fp[8]) for x in v[:,4]])\n",
    "plt.plot(t,transcript)\n",
    "plt.plot(data['t'],data['rtl'])\n",
    "plt.xlabel(\"t\")\n",
    "plt.ylabel(\"Rerative Transcript Level\")\n",
    "plt.show()"
   ]
  },
  {
   "cell_type": "code",
   "execution_count": 10,
   "metadata": {},
   "outputs": [
    {
     "name": "stdout",
     "output_type": "stream",
     "text": [
      "      O2       rtl\n",
      "0      0  0.319650\n",
      "1      1  0.544461\n",
      "2      2  0.568125\n",
      "3      3  0.583902\n",
      "4      4  0.601650\n",
      "..   ...       ...\n",
      "195  195  0.978308\n",
      "196  196  0.982252\n",
      "197  197  0.986196\n",
      "198  198  0.990140\n",
      "199  199  0.996056\n",
      "\n",
      "[200 rows x 2 columns]\n"
     ]
    }
   ],
   "source": [
    "data2 = pd.read_csv('Fig2A_1step.csv',names=('O2','rtl'))\n",
    "data2['O2'] = data2['O2'].round(2)\n",
    "print(data2)"
   ]
  },
  {
   "cell_type": "code",
   "execution_count": 11,
   "metadata": {},
   "outputs": [],
   "source": [
    "ans=[]\n",
    "fp = select(O,population,fitness_for_population(O,population,data))[0]\n",
    "v0=[fp[6],0.0,fp[7],0.0,0.0] \n",
    "t=np.arange(0,120,0.01)\n",
    "\n",
    "Os=np.arange(0,200,0.01)\n",
    "for O in Os:\n",
    "  v=odeint(Hap,v0,t,args=(O,fp[0],fp[1],fp[2],fp[3],fp[4],fp[5]))\n",
    "  ans.append(v[-1,4]/(v[-1,4]+fp[8]))\n"
   ]
  },
  {
   "cell_type": "code",
   "execution_count": 15,
   "metadata": {},
   "outputs": [
    {
     "data": {
      "image/png": "[encoded data removed]",
      "text/plain": [
       "<Figure size 432x288 with 1 Axes>"
      ]
     },
     "metadata": {
      "needs_background": "light"
     },
     "output_type": "display_data"
    }
   ],
   "source": [
    "plt.plot(Os,ans)\n",
    "plt.plot(data2['O2'],data2['rtl'])\n",
    "\n",
    "plt.xlabel(\"O2/μM\")\n",
    "plt.ylabel(\"Rerative Transcript Level\")\n",
    "\n",
    "plt.show()"
   ]
  },
  {
   "cell_type": "code",
   "execution_count": 16,
   "metadata": {},
   "outputs": [
    {
     "data": {
      "image/png": "[encoded data removed]",
      "text/plain": [
       "<Figure size 432x288 with 1 Axes>"
      ]
     },
     "metadata": {
      "needs_background": "light"
     },
     "output_type": "display_data"
    }
   ],
   "source": [
    "plt.plot(Os[0:300],ans[0:300])\n",
    "plt.plot(data2['O2'][0:4],data2['rtl'][0:4])\n",
    "\n",
    "plt.xlabel(\"O2/μM\")\n",
    "plt.ylabel(\"Rerative Transcript Level\")\n",
    "\n",
    "plt.show()"
   ]
  },
  {
   "cell_type": "code",
   "execution_count": 17,
   "metadata": {},
   "outputs": [
    {
     "data": {
      "image/png": "[encoded data removed]",
      "text/plain": [
       "<Figure size 432x288 with 1 Axes>"
      ]
     },
     "metadata": {
      "needs_background": "light"
     },
     "output_type": "display_data"
    }
   ],
   "source": [
    "plt.plot(Os[0:30],ans[0:30])\n",
    "plt.xlabel(\"O2/μM\")\n",
    "plt.ylabel(\"Rerative Transcript Level\")\n",
    "\n",
    "plt.show()"
   ]
  }
 ],
 "metadata": {
  "kernelspec": {
   "display_name": "Python 3",
   "language": "python",
   "name": "python3"
  },
  "language_info": {
   "codemirror_mode": {
    "name": "ipython",
    "version": 3
   },
   "file_extension": ".py",
   "mimetype": "text/x-python",
   "name": "python",
   "nbconvert_exporter": "python",
   "pygments_lexer": "ipython3",
   "version": "3.8.5"
  }
 },
 "nbformat": 4,
 "nbformat_minor": 5
}
